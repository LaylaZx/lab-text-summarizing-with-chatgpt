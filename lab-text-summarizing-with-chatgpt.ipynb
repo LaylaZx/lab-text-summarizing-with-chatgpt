{
 "cells": [
  {
   "cell_type": "markdown",
   "metadata": {},
   "source": [
    "# Text summarizing with ChaptGPT\n",
    "In this lesson, you will summarize text with a focus on specific topics.\n",
    "\n",
    "## Setup"
   ]
  },
  {
   "cell_type": "code",
   "execution_count": 8,
   "metadata": {
    "tags": []
   },
   "outputs": [],
   "source": [
    "from openai import OpenAI\n",
    "import os\n",
    "\n",
    "from dotenv import load_dotenv, find_dotenv\n",
    "_ = load_dotenv(find_dotenv()) # read local .env file\n",
    "\n",
    "OPENAI_API_KEY  = os.getenv('OPENAI_API_KEY')"
   ]
  },
  {
   "cell_type": "code",
   "execution_count": 9,
   "metadata": {
    "tags": []
   },
   "outputs": [],
   "source": [
    "client = OpenAI(\n",
    "    # This is the default and can be omitted\n",
    "    api_key=OPENAI_API_KEY,\n",
    ")\n",
    "\n",
    "\n",
    "def get_completion(prompt, model=\"gpt-3.5-turbo\"): # Andrew mentioned that the prompt/ completion paradigm is preferable for this class\n",
    "    messages = [{\"role\": \"user\", \"content\": prompt}]\n",
    "    response = client.chat.completions.create(\n",
    "        model=model,\n",
    "        messages=messages,\n",
    "        temperature=0, # this is the degree of randomness of the model's output\n",
    "    )\n",
    "    return response.choices[0].message.content\n"
   ]
  },
  {
   "cell_type": "markdown",
   "metadata": {},
   "source": [
    "## Text to summarize"
   ]
  },
  {
   "cell_type": "code",
   "execution_count": 10,
   "metadata": {
    "tags": []
   },
   "outputs": [],
   "source": [
    "prod_review = \"\"\"\n",
    "Got this panda plush toy for my daughter's birthday, \\\n",
    "who loves it and takes it everywhere. It's soft and \\ \n",
    "super cute, and its face has a friendly look. It's \\ \n",
    "a bit small for what I paid though. I think there \\ \n",
    "might be other options that are bigger for the \\ \n",
    "same price. It arrived a day earlier than expected, \\ \n",
    "so I got to play with it myself before I gave it \\ \n",
    "to her.\n",
    "\"\"\""
   ]
  },
  {
   "cell_type": "markdown",
   "metadata": {},
   "source": [
    "## Summarize with a word/sentence/character limit"
   ]
  },
  {
   "cell_type": "code",
   "execution_count": 11,
   "metadata": {
    "tags": []
   },
   "outputs": [
    {
     "name": "stdout",
     "output_type": "stream",
     "text": [
      "Soft, cute panda plush toy loved by daughter, arrived early. Small for price, but friendly face. Consider larger options for same cost.\n"
     ]
    }
   ],
   "source": [
    "prompt = f\"\"\"\n",
    "Your task is to generate a short summary of a product \\\n",
    "review from an ecommerce site. \n",
    "\n",
    "Summarize the review below, delimited by triple \n",
    "backticks, in at most 30 words. \n",
    "\n",
    "Review: ```{prod_review}```\n",
    "\"\"\"\n",
    "\n",
    "response = get_completion(prompt)\n",
    "print(response)\n"
   ]
  },
  {
   "cell_type": "markdown",
   "metadata": {},
   "source": [
    "## Summarize with a focus on shipping and delivery"
   ]
  },
  {
   "cell_type": "code",
   "execution_count": 12,
   "metadata": {
    "tags": []
   },
   "outputs": [
    {
     "name": "stdout",
     "output_type": "stream",
     "text": [
      "The customer was pleased with the early delivery of the panda plush toy, but felt it was slightly small for the price paid.\n"
     ]
    }
   ],
   "source": [
    "prompt = f\"\"\"\n",
    "Your task is to generate a short summary of a product \\\n",
    "review from an ecommerce site to give feedback to the \\\n",
    "Shipping deparmtment. \n",
    "\n",
    "Summarize the review below, delimited by triple \n",
    "backticks, in at most 30 words, and focusing on any aspects \\\n",
    "that mention shipping and delivery of the product. \n",
    "\n",
    "Review: ```{prod_review}```\n",
    "\"\"\"\n",
    "\n",
    "response = get_completion(prompt)\n",
    "print(response)\n"
   ]
  },
  {
   "cell_type": "markdown",
   "metadata": {},
   "source": [
    "## Summarize with a focus on price and value"
   ]
  },
  {
   "cell_type": "code",
   "execution_count": 13,
   "metadata": {
    "tags": []
   },
   "outputs": [
    {
     "name": "stdout",
     "output_type": "stream",
     "text": [
      "The panda plush toy is loved for its softness and cuteness, but some customers feel it's a bit small for the price.\n"
     ]
    }
   ],
   "source": [
    "prompt = f\"\"\"\n",
    "Your task is to generate a short summary of a product \\\n",
    "review from an ecommerce site to give feedback to the \\\n",
    "pricing deparmtment, responsible for determining the \\\n",
    "price of the product.  \n",
    "\n",
    "Summarize the review below, delimited by triple \n",
    "backticks, in at most 30 words, and focusing on any aspects \\\n",
    "that are relevant to the price and perceived value. \n",
    "\n",
    "Review: ```{prod_review}```\n",
    "\"\"\"\n",
    "\n",
    "response = get_completion(prompt)\n",
    "print(response)\n"
   ]
  },
  {
   "cell_type": "markdown",
   "metadata": {},
   "source": [
    "#### Comment\n",
    "- Summaries include topics that are not related to the topic of focus."
   ]
  },
  {
   "cell_type": "markdown",
   "metadata": {},
   "source": [
    "## Try \"extract\" instead of \"summarize\""
   ]
  },
  {
   "cell_type": "code",
   "execution_count": 14,
   "metadata": {
    "tags": []
   },
   "outputs": [
    {
     "name": "stdout",
     "output_type": "stream",
     "text": [
      "Feedback: The product arrived a day earlier than expected, which was a pleasant surprise. Consider offering larger options for the same price to improve customer satisfaction.\n"
     ]
    }
   ],
   "source": [
    "prompt = f\"\"\"\n",
    "Your task is to extract relevant information from \\ \n",
    "a product review from an ecommerce site to give \\\n",
    "feedback to the Shipping department. \n",
    "\n",
    "From the review below, delimited by triple quotes \\\n",
    "extract the information relevant to shipping and \\ \n",
    "delivery. Limit to 30 words. \n",
    "\n",
    "Review: ```{prod_review}```\n",
    "\"\"\"\n",
    "\n",
    "response = get_completion(prompt)\n",
    "print(response)"
   ]
  },
  {
   "cell_type": "markdown",
   "metadata": {},
   "source": [
    "## Summarize multiple product reviews"
   ]
  },
  {
   "cell_type": "code",
   "execution_count": 15,
   "metadata": {
    "tags": []
   },
   "outputs": [],
   "source": [
    "\n",
    "review_1 = prod_review \n",
    "\n",
    "# review for a standing lamp\n",
    "review_2 = \"\"\"\n",
    "Needed a nice lamp for my bedroom, and this one \\\n",
    "had additional storage and not too high of a price \\\n",
    "point. Got it fast - arrived in 2 days. The string \\\n",
    "to the lamp broke during the transit and the company \\\n",
    "happily sent over a new one. Came within a few days \\\n",
    "as well. It was easy to put together. Then I had a \\\n",
    "missing part, so I contacted their support and they \\\n",
    "very quickly got me the missing piece! Seems to me \\\n",
    "to be a great company that cares about their customers \\\n",
    "and products. \n",
    "\"\"\"\n",
    "\n",
    "# review for an electric toothbrush\n",
    "review_3 = \"\"\"\n",
    "My dental hygienist recommended an electric toothbrush, \\\n",
    "which is why I got this. The battery life seems to be \\\n",
    "pretty impressive so far. After initial charging and \\\n",
    "leaving the charger plugged in for the first week to \\\n",
    "condition the battery, I've unplugged the charger and \\\n",
    "been using it for twice daily brushing for the last \\\n",
    "3 weeks all on the same charge. But the toothbrush head \\\n",
    "is too small. I’ve seen baby toothbrushes bigger than \\\n",
    "this one. I wish the head was bigger with different \\\n",
    "length bristles to get between teeth better because \\\n",
    "this one doesn’t.  Overall if you can get this one \\\n",
    "around the $50 mark, it's a good deal. The manufactuer's \\\n",
    "replacements heads are pretty expensive, but you can \\\n",
    "get generic ones that're more reasonably priced. This \\\n",
    "toothbrush makes me feel like I've been to the dentist \\\n",
    "every day. My teeth feel sparkly clean! \n",
    "\"\"\"\n",
    "\n",
    "# review for a blender\n",
    "review_4 = \"\"\"\n",
    "So, they still had the 17 piece system on seasonal \\\n",
    "sale for around $49 in the month of November, about \\\n",
    "half off, but for some reason (call it price gouging) \\\n",
    "around the second week of December the prices all went \\\n",
    "up to about anywhere from between $70-$89 for the same \\\n",
    "system. And the 11 piece system went up around $10 or \\\n",
    "so in price also from the earlier sale price of $29. \\\n",
    "So it looks okay, but if you look at the base, the part \\\n",
    "where the blade locks into place doesn’t look as good \\\n",
    "as in previous editions from a few years ago, but I \\\n",
    "plan to be very gentle with it (example, I crush \\\n",
    "very hard items like beans, ice, rice, etc. in the \\ \n",
    "blender first then pulverize them in the serving size \\\n",
    "I want in the blender then switch to the whipping \\\n",
    "blade for a finer flour, and use the cross cutting blade \\\n",
    "first when making smoothies, then use the flat blade \\\n",
    "if I need them finer/less pulpy). Special tip when making \\\n",
    "smoothies, finely cut and freeze the fruits and \\\n",
    "vegetables (if using spinach-lightly stew soften the \\ \n",
    "spinach then freeze until ready for use-and if making \\\n",
    "sorbet, use a small to medium sized food processor) \\ \n",
    "that you plan to use that way you can avoid adding so \\\n",
    "much ice if at all-when making your smoothie. \\\n",
    "After about a year, the motor was making a funny noise. \\\n",
    "I called customer service but the warranty expired \\\n",
    "already, so I had to buy another one. FYI: The overall \\\n",
    "quality has gone done in these types of products, so \\\n",
    "they are kind of counting on brand recognition and \\\n",
    "consumer loyalty to maintain sales. Got it in about \\\n",
    "two days.\n",
    "\"\"\"\n",
    "\n",
    "reviews = [review_1, review_2, review_3, review_4]"
   ]
  },
  {
   "cell_type": "code",
   "execution_count": 16,
   "metadata": {
    "tags": []
   },
   "outputs": [
    {
     "name": "stdout",
     "output_type": "stream",
     "text": [
      "0 Summary: \n",
      "Adorable panda plush loved by daughter, soft and cute, but smaller than expected for the price. Arrived early. \n",
      "\n",
      "1 Great lamp with storage, fast delivery, excellent customer service for missing parts. Company cares about customers. \n",
      "\n",
      "2 Impressive battery life, small toothbrush head, good deal for $50, generic replacement heads available, leaves teeth feeling clean. \n",
      "\n",
      "3 17-piece system on sale for $49, quality decline, motor issue after a year, price increase, customer service, brand loyalty. \n",
      "\n"
     ]
    }
   ],
   "source": [
    "for i in range(len(reviews)):\n",
    "    prompt = f\"\"\"\n",
    "    Your task is to generate a short summary of a product \\ \n",
    "    review from an ecommerce site. \n",
    "\n",
    "    Summarize the review below, delimited by triple \\\n",
    "    backticks in at most 20 words. \n",
    "\n",
    "    Review: ```{reviews[i]}```\n",
    "    \"\"\"\n",
    "\n",
    "    response = get_completion(prompt)\n",
    "    print(i, response, \"\\n\")"
   ]
  },
  {
   "cell_type": "markdown",
   "metadata": {},
   "source": [
    "# Exercise\n",
    " - Complete the prompts similar to what we did in class. \n",
    "     - Try at least 3 versions\n",
    "     - Be creative\n",
    " - Write a one page report summarizing your findings.\n",
    "     - Were there variations that didn't work well? i.e., where GPT either hallucinated or wrong\n",
    " - What did you learn?"
   ]
  },
  {
   "cell_type": "code",
   "execution_count": 17,
   "metadata": {},
   "outputs": [],
   "source": [
    "#Hare and Tortoise story\n",
    "story = \"\"\"Once upon a time, in a lush, green forest, lived a hare who was known for his speed. He could run faster than any creature in the entire forest. His fur was sleek, his legs were long and powerful, and he was always the first to arrive at any gathering. The other animals in the forest often admired him and would watch in awe as he zipped past them.\n",
    "\n",
    "\n",
    "But despite his impressive abilities, the hare was arrogant and loved to boast. \"I am the fastest animal in this forest!\" he would say, \"No one can outrun me. I'm the king of speed!\"\n",
    "\n",
    "One day, as the hare was strutting through the forest, he came across a tortoise who was moving at his usual slow and steady pace. The tortoise was old and wise, but his slowness was often the subject of ridicule among the other animals. The hare, seeing the tortoise's deliberate movement, burst out laughing.\n",
    "\n",
    "\"You! You are so slow! How do you even get around the forest? You should just give up. You'll never be able to keep up with me!\"\n",
    "\n",
    "The tortoise, undeterred by the hare's mockery, responded calmly. \"I may be slow, but I am determined. How about we settle this with a race? I may not be fast, but I believe I can win.\"\n",
    "\n",
    "The hare, who was always looking for an opportunity to show off, scoffed at the idea. \"A race? With you? This will be over before it even begins! But sure, I'll humor you. Prepare to lose.\"\n",
    "\n",
    "The animals of the forest gathered around to watch the race, eager to see how it would unfold. The fox was chosen to be the referee, and he called them to the starting line. \"The finish line is just beyond the tall oak tree on the other side of the meadow,\" the fox announced. \"Are you ready?\"\n",
    "\n",
    "The hare nodded confidently, already picturing himself at the finish line while the tortoise was still at the starting point. The tortoise simply nodded, keeping his eyes focused on the path ahead.\n",
    "\n",
    "At the signal, the race began! The hare shot off like an arrow, his legs moving so quickly that he seemed to blur. Within seconds, he had left the tortoise far behind. The tortoise, on the other hand, moved at his usual steady pace, his legs plodding along without haste. He didn’t look around or worry about the hare’s speed; he simply kept moving forward, one step at a time.\n",
    "\n",
    "As the hare raced ahead, he looked back and saw that the tortoise was nowhere in sight. \"This is too easy,\" the hare thought. \"I have plenty of time to take a nap before I finish the race.\" Feeling confident and sure of his victory, he found a soft patch of grass under a shady tree and decided to rest. \"I'll sleep for a while,\" he thought, \"and then I'll finish the race in no time.\"\n",
    "\n",
    "So, the hare curled up under the tree, closed his eyes, and drifted off to sleep. Meanwhile, the tortoise kept moving steadily along the path, never stopping, never rushing. He moved with purpose, despite the growing distance between him and the hare.\n",
    "\n",
    "As the hare slept, the tortoise reached the halfway point, then the three-quarters point, and before long, he was nearing the tall oak tree that marked the finish line. The other animals in the forest watched in awe as the slow-moving tortoise approached the end of the race, his determination unwavering.\n",
    "\n",
    "Meanwhile, the hare continued to sleep soundly, unaware that the tortoise was nearing victory. He dreamed of the finish line, imagining how proud he would be when he crossed it in first place.\n",
    "\n",
    "But then, the tortoise reached the finish line. The crowd of animals cheered, and the fox declared, \"The tortoise wins the race!\" The tortoise, though tired, smiled proudly, his slow and steady pace having won him the race.\n",
    "\n",
    "A few moments later, the hare woke up, stretching and yawning. He glanced around, expecting to see the tortoise far behind him. But to his shock, the tortoise was already at the finish line, surrounded by cheering animals.\n",
    "\n",
    "The hare's heart sank as he realized what had happened. He had been so sure of his victory, so confident in his speed, that he had underestimated the tortoise. He raced to the finish line, but it was too late. The tortoise had won.\n",
    "\n",
    "The hare, out of breath and embarrassed, hung his head in shame. \"How could I have been so foolish?\" he thought. \"I was too arrogant, too overconfident, and now I’ve lost.\"\n",
    "\n",
    "The tortoise, seeing the hare's distress, approached him with a kind smile. \"You were fast, my friend,\" the tortoise said gently. \"But you forgot one thing: speed is not always the most important thing. It’s about consistency, persistence, and not giving up. I may not be fast, but I kept going, step by step, and in the end, that made all the difference.\"\n",
    "\n",
    "The moral of the story was clear to everyone in the forest: \"Slow and steady wins the race.\" It was a lesson in humility for the hare and a reminder to everyone that persistence, determination, and steady effort can often lead to success, even if you are not the fastest or the strongest.\n",
    "\n",
    "From that day on, the hare learned to be more humble and never again underestimated the power of consistency and patience. And the tortoise, with his quiet wisdom, continued to move at his own pace, knowing that sometimes, in life, persistence is the key to achieving great things\"\"\""
   ]
  },
  {
   "cell_type": "code",
   "execution_count": 18,
   "metadata": {},
   "outputs": [
    {
     "name": "stdout",
     "output_type": "stream",
     "text": [
      "In a lush forest, a boastful hare challenges a slow tortoise to a race. The hare, confident in his speed, takes a nap mid-race, allowing the tortoise to win with steady determination. The moral of the story is that \"slow and steady wins the race,\" teaching the hare a lesson in humility and the importance of persistence. The tortoise's victory highlights the value of consistency and patience in achieving success, even when faced with faster competition. The hare learns to be more humble, while the tortoise continues to move at his own pace, embodying the idea that persistence is key to achieving great things.\n"
     ]
    }
   ],
   "source": [
    "brief_summary_prompt = f\"\"\"\n",
    "Your task is to generate a brief summary of the following story. \n",
    "\n",
    "Summarize the story below, delimited by triple backticks,\n",
    "in at most 170 words, focusing on the main events.\n",
    "\n",
    "Story: ```{story}```\n",
    "\"\"\"\n",
    "response = get_completion(brief_summary_prompt)\n",
    "print(response)"
   ]
  },
  {
   "cell_type": "code",
   "execution_count": 19,
   "metadata": {},
   "outputs": [
    {
     "name": "stdout",
     "output_type": "stream",
     "text": [
      "- Arrogance leads to downfall\n",
      "- Consistency triumphs over speed\n",
      "- Persistence is key to success\n",
      "- Humility is a valuable trait\n",
      "- Never underestimate others\n",
      "- Slow and steady wins the race\n",
      "- Patience is a virtue\n",
      "- Learn from mistakes\n",
      "- Stay determined in the face of challenges\n",
      "- Success comes from steady effort\n"
     ]
    }
   ],
   "source": [
    "moral_summary_prompt = f\"\"\"\n",
    "Your task is to generate a summary that explains the moral of the following story.\n",
    "\n",
    "Summarize the story below, delimited by triple backticks,as points, in at most 10 words per point, focusing on the lesson or moral learned.\n",
    "\n",
    "Story: ```{story}```\n",
    "\"\"\"\n",
    "response = get_completion(moral_summary_prompt)\n",
    "print(response)"
   ]
  },
  {
   "cell_type": "code",
   "execution_count": 20,
   "metadata": {},
   "outputs": [
    {
     "name": "stdout",
     "output_type": "stream",
     "text": [
      "The story of the hare and the tortoise teaches us the valuable lesson that \"slow and steady wins the race.\" It emphasizes the importance of consistency, persistence, and not underestimating others. The hare's arrogance led to his downfall, while the tortoise's determination and steady effort ultimately led to his victory. This story serves as a reminder that success is not always about being the fastest or the strongest, but about staying focused, never giving up, and moving forward step by step. It teaches us the power of humility, patience, and the value of persistence in achieving our goals.\n"
     ]
    }
   ],
   "source": [
    "lesson_summary_prompt = f\"\"\"\n",
    "Your task is to generate a lesson-oriented summary of the following story. \n",
    "\n",
    "Summarize the story below, delimited by triple backticks, in at most 100 words, focusing on the lessons and values that can be learned from the story.\n",
    "\n",
    "Story: ```{story}```\n",
    "\"\"\"\n",
    "response = get_completion(lesson_summary_prompt)\n",
    "print(response)\n"
   ]
  },
  {
   "cell_type": "markdown",
   "metadata": {},
   "source": [
    "# What Did I Learn?\n",
    "- Prompt Specificity, Word Limit, and Actionable Feedback: Clear prompts yield targeted results, but excessive detail may lead to verbosity.\n",
    "- Focus is Key: Maintaining a clear focus on the specific topic ensures better summaries.\n",
    "- Brevity vs. Detail: Striking a balance between conciseness and detail is crucial.\n",
    "- Real-World Application: Considering practical uses of summarizing enhances context.\n"
   ]
  }
 ],
 "metadata": {
  "kernelspec": {
   "display_name": "Python 3",
   "language": "python",
   "name": "python3"
  },
  "language_info": {
   "codemirror_mode": {
    "name": "ipython",
    "version": 3
   },
   "file_extension": ".py",
   "mimetype": "text/x-python",
   "name": "python",
   "nbconvert_exporter": "python",
   "pygments_lexer": "ipython3",
   "version": "3.10.3"
  }
 },
 "nbformat": 4,
 "nbformat_minor": 4
}
